{
 "cells": [
  {
   "cell_type": "markdown",
   "metadata": {},
   "source": [
    "Hey, I Already Did That!\n",
    "========================\n",
    "\n",
    "Commander Lambda uses an automated algorithm to assign minions randomly to tasks, in order to keep her minions on their toes. But you've noticed a flaw in the \n",
    "algorithm - it eventually loops back on itself, so that instead of assigning new minions as it iterates, it gets stuck in a cycle of values so that the same minions \n",
    "end up doing the same tasks over and over again. You think proving this to Commander Lambda will help you make a case for your next promotion. \n",
    "\n",
    "You have worked out that the algorithm has the following process: \n",
    "\n",
    "1) Start with a random minion ID n, which is a nonnegative integer of length k in base b\n",
    "2) Define x and y as integers of length k.  x has the digits of n in descending order, and y has the digits of n in ascending order\n",
    "3) Define z = x - y.  Add leading zeros to z to maintain length k if necessary\n",
    "4) Assign n = z to get the next minion ID, and go back to step 2\n",
    "\n",
    "For example, given minion ID n = 1211, k = 4, b = 10, then x = 2111, y = 1112 and z = 2111 - 1112 = 0999. Then the next minion ID will be n = 0999 and the algorithm \n",
    "iterates again: x = 9990, y = 0999 and z = 9990 - 0999 = 8991, and so on.\n",
    "\n",
    "Depending on the values of n, k (derived from n), and b, at some point the algorithm reaches a cycle, such as by reaching a constant value. For example, starting \n",
    "with n = 210022, k = 6, b = 3, the algorithm will reach the cycle of values [210111, 122221, 102212] and it will stay in this cycle no matter how many times it \n",
    "continues iterating. Starting with n = 1211, the routine will reach the integer 6174, and since 7641 - 1467 is 6174, it will stay as that value no matter how many \n",
    "times it iterates.\n",
    "\n",
    "Given a minion ID as a string n representing a nonnegative integer of length k in base b, where 2 <= k <= 9 and 2 <= b <= 10, write a function answer(n, \n",
    "b) which returns the length of the ending cycle of the algorithm above starting with n. For instance, in the example above, answer(210022, 3) would return 3, since \n",
    "iterating on 102212 would return to 210111 when done in base 3. If the algorithm reaches a constant, such as 0, then the length is 1.\n",
    "\n",
    "Languages\n",
    "=========\n",
    "\n",
    "To provide a Python solution, edit solution.py\n",
    "To provide a Java solution, edit solution.java\n",
    "\n",
    "Test cases\n",
    "==========\n",
    "\n",
    "Inputs:\n",
    "    (string) n = \"1211\"\n",
    "    (int) b = 10\n",
    "Output:\n",
    "    (int) 1\n",
    "\n",
    "Inputs:\n",
    "    (string) n = \"210022\"\n",
    "    (int) b = 3\n",
    "Output:\n",
    "    (int) 3"
   ]
  },
  {
   "cell_type": "code",
   "execution_count": 1,
   "metadata": {
    "collapsed": true
   },
   "outputs": [],
   "source": [
    "def baseN(num,b,numerals=\"0123456789abcdefghijklmnopqrstuvwxyz\"):\n",
    "    return ((num == 0) and numerals[0]) or (baseN(num // b, b, numerals).lstrip(numerals[0]) + numerals[num % b])\n"
   ]
  },
  {
   "cell_type": "code",
   "execution_count": 2,
   "metadata": {},
   "outputs": [],
   "source": [
    "def getNext(n, b, k):\n",
    "    x = ''.join(sorted(list(n), reverse=True))\n",
    "    y = ''.join(sorted(list(n)))\n",
    "    z = baseN(int(x, b) - int(y, b), b)\n",
    "    return '0' * (k - len(z)) + z"
   ]
  },
  {
   "cell_type": "code",
   "execution_count": 3,
   "metadata": {},
   "outputs": [],
   "source": [
    "def answer(n, b):\n",
    "    k = len(n)\n",
    "    index = 0\n",
    "    funded = {}\n",
    "    \n",
    "    while True:\n",
    "        if n in funded:\n",
    "            return index - funded[n]\n",
    "        else:\n",
    "            funded[n] = index\n",
    "            index += 1\n",
    "            \n",
    "        n = getNext(n, b, k)"
   ]
  },
  {
   "cell_type": "code",
   "execution_count": 4,
   "metadata": {},
   "outputs": [
    {
     "data": {
      "text/plain": [
       "3"
      ]
     },
     "execution_count": 4,
     "metadata": {},
     "output_type": "execute_result"
    }
   ],
   "source": [
    "answer('210022', 3)"
   ]
  }
 ],
 "metadata": {
  "kernelspec": {
   "display_name": "Python 2",
   "language": "python",
   "name": "python2"
  },
  "language_info": {
   "codemirror_mode": {
    "name": "ipython",
    "version": 2
   },
   "file_extension": ".py",
   "mimetype": "text/x-python",
   "name": "python",
   "nbconvert_exporter": "python",
   "pygments_lexer": "ipython2",
   "version": "2.7.13"
  }
 },
 "nbformat": 4,
 "nbformat_minor": 2
}
